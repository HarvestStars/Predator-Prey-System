{
 "cells": [
  {
   "cell_type": "code",
   "execution_count": null,
   "metadata": {},
   "outputs": [],
   "source": [
    "from scipy.integrate import odeint\n",
    "import numpy as np\n",
    "import matplotlib.pyplot as plt\n",
    "import SA\n",
    "import main\n",
    "import HC"
   ]
  },
  {
   "cell_type": "code",
   "execution_count": null,
   "metadata": {},
   "outputs": [],
   "source": [
    "def lotka_volterra(y, t, alpha, beta, delta, gamma):\n",
    "    x, y = y\n",
    "    dxdt = alpha * x - beta * x * y\n",
    "    dydt = delta * x * y - gamma * y\n",
    "    return [dxdt, dydt]\n",
    "\n",
    "def load_data():\n",
    "    data = np.loadtxt(\"../observed_data/predator-prey-data.csv\", delimiter=\",\")\n",
    "    return data[:, 0], data[:, 1], data[:, 2]\n",
    "\n",
    "def plot_model(t_data, x_data, y_data, sim_data):\n",
    "    \"\"\"\n",
    "    Plot the observed data and the best fit\n",
    "    \"\"\"\n",
    "    prey, predator = sim_data\n",
    "    \n",
    "    fig, axis = plt.subplots(1, 2, figsize=(12, 6))\n",
    "    axis[0].plot(t_data, x_data, 'o')\n",
    "    axis[0].plot(t_data, y_data, 'o')\n",
    "    axis[0].set_title(\"Observed Data\")\n",
    "\n",
    "    axis[1].plot(t_data, prey, label='Prey')\n",
    "    axis[1].plot(t_data, predator, label='Predator')\n",
    "    axis[1].set_title(\"Lotka-Volterra Model\")\n",
    "\n",
    "    fig.suptitle(f\"Lotka-Volterra Model\\n given by $\\\\alpha = 0.57104693$, $\\\\beta = 0.47572982$, $\\\\delta = 0.93209038$, $\\\\gamma = 1.1220162$\")\n",
    "    fig.supxlabel(\"Time\")\n",
    "    fig.supylabel(\"Population\")\n",
    "    fig.legend()\n",
    "\n",
    "    plt.tight_layout()\n",
    "    plt.gcf().set_dpi(300)\n",
    "    # plt.savefig(\"../visualization/lotka_volterra.png\")\n",
    "    plt.show()\n",
    "\n",
    "def plot_mse(N_boot, max_boot, objective, initial_params, proposal_func, max_iter, tol):\n",
    "    boot_range = np.array(range(0, max_boot))\n",
    "    mse = np.zeros(max_boot)\n",
    "    \n",
    "    for i in boot_range:\n",
    "        mean_mse = 0\n",
    "        for _ in range(N_boot):\n",
    "            boot_data = bootstrapping(i)\n",
    "            _, best_mse = HC.hill_climbing(\n",
    "            objective, proposal_func, boot_data, initial_params, max_iter, tol\n",
    "            )\n",
    "            mean_mse += best_mse\n",
    "        mse[i] = mean_mse / N_boot\n",
    "    \n",
    "    plt.plot(boot_range, mse)\n",
    "    plt.xlabel(\"Number of Data Points Removed\")\n",
    "    plt.ylabel(f\"The Mean Mean Squared Error over {N_boot} Bootstraps\")\n",
    "    plt.title(\"Mean Squared Error vs. Number of Data Points\")\n",
    "    plt.savefig(\"../visualization/mse_vs_data_points.png\")\n",
    "    plt.show()\n",
    "\n",
    "def bootstrapping(num_data_points):\n",
    "    \"\"\"\n",
    "    Perform bootstrapping to generate new data\n",
    "    \"\"\"\n",
    "    true_data = load_data()\n",
    "    length = len(true_data[0])\n",
    "\n",
    "    indices = np.random.choice(length, num_data_points, replace=False)\n",
    "    result_data = tuple(\n",
    "        np.delete(data, indices) for data in true_data\n",
    "    )\n",
    "    return result_data"
   ]
  },
  {
   "cell_type": "code",
   "execution_count": null,
   "metadata": {},
   "outputs": [],
   "source": [
    "t_data, x_data, y_data = load_data()\n",
    "\n",
    "y0 = [x_data[0], y_data[0]]\n",
    "alpha, beta, delta, gamma = [0.57104693,0.47572982,0.93209038,1.1220162]\n",
    "\n",
    "solution = odeint(lotka_volterra, y0, t_data, args=(alpha, beta, delta, gamma))\n",
    "prey = solution[:, 0]\n",
    "predator = solution[:, 1]\n",
    "\n",
    "plot_model(t_data, x_data, y_data, [prey, predator])"
   ]
  },
  {
   "cell_type": "code",
   "execution_count": null,
   "metadata": {},
   "outputs": [],
   "source": [
    "max_boot = 100\n",
    "objective = main.objective\n",
    "initial_params = np.array([1.0, 0.1, 0.1, 1.0])\n",
    "proposal_func = main.proposal_func\n",
    "max_iter = 100\n",
    "tol = 1e-6\n",
    "\n",
    "plot_mse(40, max_boot, objective, initial_params, proposal_func, max_iter, tol);"
   ]
  },
  {
   "cell_type": "code",
   "execution_count": null,
   "metadata": {},
   "outputs": [],
   "source": []
  }
 ],
 "metadata": {
  "kernelspec": {
   "display_name": ".venv",
   "language": "python",
   "name": "python3"
  },
  "language_info": {
   "codemirror_mode": {
    "name": "ipython",
    "version": 3
   },
   "file_extension": ".py",
   "mimetype": "text/x-python",
   "name": "python",
   "nbconvert_exporter": "python",
   "pygments_lexer": "ipython3",
   "version": "3.12.4"
  }
 },
 "nbformat": 4,
 "nbformat_minor": 2
}
